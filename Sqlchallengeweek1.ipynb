{
  "nbformat": 4,
  "nbformat_minor": 0,
  "metadata": {
    "colab": {
      "provenance": []
    },
    "kernelspec": {
      "name": "python3",
      "display_name": "Python 3"
    },
    "language_info": {
      "name": "python"
    }
  },
  "cells": [
    {
      "cell_type": "code",
      "execution_count": 1,
      "metadata": {
        "colab": {
          "base_uri": "https://localhost:8080/"
        },
        "id": "9hTJ7YVd5oBp",
        "outputId": "d2a506dd-409d-4656-d466-2d106a93e9af"
      },
      "outputs": [
        {
          "output_type": "stream",
          "name": "stdout",
          "text": [
            "Collecting pymysql\n",
            "  Downloading PyMySQL-1.1.0-py3-none-any.whl (44 kB)\n",
            "\u001b[?25l     \u001b[90m━━━━━━━━━━━━━━━━━━━━━━━━━━━━━━━━━━━━━━━━\u001b[0m \u001b[32m0.0/44.8 kB\u001b[0m \u001b[31m?\u001b[0m eta \u001b[36m-:--:--\u001b[0m\r\u001b[2K     \u001b[90m━━━━━━━━━━━━━━━━━━━━━━━━━━━━━━━━━━━━━━━━\u001b[0m \u001b[32m44.8/44.8 kB\u001b[0m \u001b[31m1.8 MB/s\u001b[0m eta \u001b[36m0:00:00\u001b[0m\n",
            "\u001b[?25hInstalling collected packages: pymysql\n",
            "Successfully installed pymysql-1.1.0\n"
          ]
        }
      ],
      "source": [
        "!pip install pymysql;"
      ]
    },
    {
      "cell_type": "code",
      "source": [
        "%load_ext sql"
      ],
      "metadata": {
        "id": "EpipWLSD6JaC"
      },
      "execution_count": 4,
      "outputs": []
    },
    {
      "cell_type": "code",
      "source": [
        "%sql sqlite:///development.db"
      ],
      "metadata": {
        "id": "YyGT19z_64st"
      },
      "execution_count": 5,
      "outputs": []
    },
    {
      "cell_type": "code",
      "source": [
        "%%sql\n",
        "CREATE TABLE partner_beneficiary (\n",
        "  partner_id INT,\n",
        "  partner VARCHAR(50),\n",
        "  village_id INT,\n",
        "  beneficiaries INT,\n",
        "  beneficiary_type VARCHAR(50)\n",
        ");"
      ],
      "metadata": {
        "colab": {
          "base_uri": "https://localhost:8080/"
        },
        "id": "U4WjWmVd7II_",
        "outputId": "dd34a5b3-8c93-44e5-fd97-b53fe48428e9"
      },
      "execution_count": 6,
      "outputs": [
        {
          "output_type": "stream",
          "name": "stdout",
          "text": [
            " * sqlite:///development.db\n",
            "Done.\n"
          ]
        },
        {
          "output_type": "execute_result",
          "data": {
            "text/plain": [
              "[]"
            ]
          },
          "metadata": {},
          "execution_count": 6
        }
      ]
    },
    {
      "cell_type": "code",
      "source": [
        "%%sql\n",
        "CREATE VIEW district_summary AS\n",
        "SELECT\n",
        "  l.district_name,\n",
        "  r.region_name,\n",
        "  SUM(p.beneficiaries / 6) AS total_individuals,\n",
        "  (SUM(p.beneficiaries / 6) / d.population) * 100 AS individuals_pct\n",
        "FROM village_location l\n",
        "JOIN jurisdiction_hierarchy j ON l.district_id = j.district_id\n",
        "JOIN region r ON j.region_id = r.region_id\n",
        "JOIN partner_beneficiary p ON l.village_id = p.village_id\n",
        "JOIN district d ON l.district_id = d.district_id\n",
        "GROUP BY l.district_id, l.district_name, r.region_name, d.population;"
      ],
      "metadata": {
        "colab": {
          "base_uri": "https://localhost:8080/"
        },
        "id": "t-kR4OfM7oBR",
        "outputId": "0d86a661-1751-4d46-b670-61932553126e"
      },
      "execution_count": 7,
      "outputs": [
        {
          "output_type": "stream",
          "name": "stdout",
          "text": [
            " * sqlite:///development.db\n",
            "Done.\n"
          ]
        },
        {
          "output_type": "execute_result",
          "data": {
            "text/plain": [
              "[]"
            ]
          },
          "metadata": {},
          "execution_count": 7
        }
      ]
    },
    {
      "cell_type": "code",
      "source": [
        "%%sql\n",
        "CREATE VIEW partner_summary AS\n",
        "SELECT\n",
        "  p.partner,\n",
        "  COUNT(DISTINCT p.village_id) AS villages_reached,\n",
        "  COUNT(DISTINCT l.district_id) AS districts_reached\n",
        "FROM partner_beneficiary p\n",
        "JOIN village_location l ON p.village_id = l.village_id\n",
        "GROUP BY p.partner;"
      ],
      "metadata": {
        "colab": {
          "base_uri": "https://localhost:8080/"
        },
        "id": "bX_xbVVz7xb1",
        "outputId": "b85d5656-db5e-4814-fbcc-eb6f25cf500c"
      },
      "execution_count": 8,
      "outputs": [
        {
          "output_type": "stream",
          "name": "stdout",
          "text": [
            " * sqlite:///development.db\n",
            "Done.\n"
          ]
        },
        {
          "output_type": "execute_result",
          "data": {
            "text/plain": [
              "[]"
            ]
          },
          "metadata": {},
          "execution_count": 8
        }
      ]
    }
  ]
}